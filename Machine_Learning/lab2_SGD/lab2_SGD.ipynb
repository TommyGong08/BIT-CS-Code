{
 "cells": [
  {
   "cell_type": "code",
   "execution_count": 2,
   "metadata": {},
   "outputs": [],
   "source": [
    "# SGD demo\n",
    "import numpy as np\n",
    "import pandas as pd\n",
    "from matplotlib import pyplot as plt"
   ]
  },
  {
   "cell_type": "code",
   "execution_count": 51,
   "metadata": {},
   "outputs": [],
   "source": [
    "X = [55, 71, 68, 87, 101, 87, 75, 78, 93, 73]\n",
    "Y = [91, 101, 87, 109, 129, 98, 95, 101, 104, 93]"
   ]
  },
  {
   "cell_type": "code",
   "execution_count": 129,
   "metadata": {},
   "outputs": [
    {
     "data": {
      "image/png": "[encoded data removed]",
      "text/plain": [
       "<Figure size 432x288 with 1 Axes>"
      ]
     },
     "metadata": {
      "needs_background": "light"
     },
     "output_type": "display_data"
    }
   ],
   "source": [
    "# plt.title(\"data\") \n",
    "# 查看原始数据分布\n",
    "plt.xlabel(\"X\") \n",
    "plt.ylabel(\"Y\") \n",
    "plt.plot(X,Y,\"ob\") \n",
    "plt.show()"
   ]
  },
  {
   "cell_type": "code",
   "execution_count": null,
   "metadata": {},
   "outputs": [],
   "source": [
    "# 迭代阀值\n",
    "epsilon = 0.0001\n",
    "# 学习率\n",
    "alpha = 0.00001\n",
    "# 残差\n",
    "diff = 0 \n",
    "# 最大迭代次数\n",
    "max_itor = 5000\n",
    "# 截距\n",
    "w0 = 0\n",
    "# 两次迭代的误差\n",
    "error1 = 0\n",
    "error0 = 0\n",
    "# 迭代次数\n",
    "iter_time = 0\n",
    "# 初始化斜率\n",
    "w1 = 0\n",
    "error = []"
   ]
  },
  {
   "cell_type": "code",
   "execution_count": null,
   "metadata": {},
   "outputs": [],
   "source": [
    "# 开始迭代\n",
    "while True:\n",
    "    # 参数迭代计算\n",
    "    for i in range(len(X)):\n",
    "        # 拟合函数为 Y = wo + w1*X\n",
    "        # 计算残差\n",
    "        diff = (w0 + w1 * X[i]) - Y[i]\n",
    " \n",
    "        # 梯度\n",
    "        w0 -= alpha * diff \n",
    "        w1 -= alpha * diff * X[i]\n",
    " \n",
    "    # 计算损失函数\n",
    "    error1 = 0\n",
    "    for i in range(len(X)):\n",
    "        error1 += (Y[i]-(w0 + w1 * X[i]))**2/2\n",
    "        \n",
    "    error.append(error1)\n",
    "    iter_time += 1\n",
    "    \n",
    "    # 两次迭代之间的误差小于epsilon迭代停止\n",
    "    if abs(error1 - error0) < epsilon :\n",
    "        print('-1')\n",
    "        break\n",
    "    elif iter_time > max_itor:\n",
    "        print('-2')\n",
    "        break\n",
    "    else:\n",
    "        error0 = error1\n",
    "print('w0: ' + str(w0) + '     w1: ' + str(w1) + '     error1: ' + str(error1))\n",
    "# print(error)"
   ]
  },
  {
   "cell_type": "code",
   "execution_count": 161,
   "metadata": {},
   "outputs": [
    {
     "data": {
      "image/png": "[encoded data removed]",
      "text/plain": [
       "<Figure size 432x288 with 1 Axes>"
      ]
     },
     "metadata": {
      "needs_background": "light"
     },
     "output_type": "display_data"
    }
   ],
   "source": [
    "# 做出loss函数图像,取前30次迭代\n",
    "error_x = list(range(0,len(error)))\n",
    "# print(error_x)\n",
    "plt.plot(error_x[0:30], error[0:30],'.-')\n",
    "plt.show()"
   ]
  },
  {
   "cell_type": "code",
   "execution_count": 156,
   "metadata": {},
   "outputs": [
    {
     "data": {
      "image/png": "[encoded data removed]",
      "text/plain": [
       "<Figure size 432x288 with 1 Axes>"
      ]
     },
     "metadata": {
      "needs_background": "light"
     },
     "output_type": "display_data"
    }
   ],
   "source": [
    "# 做出y = w0 + w1 *x图像\n",
    "y = []\n",
    "plt.xlabel(\"X\") \n",
    "plt.ylabel(\"Y\") \n",
    "plt.plot(X,Y,'^')\n",
    "for i in range(len(X)):\n",
    "    y.append(w0 + w1 * X[i])\n",
    "plt.plot(X, y)\n",
    "plt.show()"
   ]
  },
  {
   "cell_type": "code",
   "execution_count": null,
   "metadata": {},
   "outputs": [],
   "source": []
  },
  {
   "cell_type": "code",
   "execution_count": null,
   "metadata": {},
   "outputs": [],
   "source": []
  }
 ],
 "metadata": {
  "kernelspec": {
   "display_name": "Python 3",
   "language": "python",
   "name": "python3"
  },
  "language_info": {
   "codemirror_mode": {
    "name": "ipython",
    "version": 3
   },
   "file_extension": ".py",
   "mimetype": "text/x-python",
   "name": "python",
   "nbconvert_exporter": "python",
   "pygments_lexer": "ipython3",
   "version": "3.6.5"
  },
  "tianchi_metadata": {
   "competitions": [],
   "datasets": [
    {
     "id": "7658",
     "title": "线性回归实验数据集"
    }
   ],
   "description": "",
   "notebookId": "31551",
   "source": "ailab"
  }
 },
 "nbformat": 4,
 "nbformat_minor": 4
}
